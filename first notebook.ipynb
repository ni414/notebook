{
    "cells": [
        {
            "metadata": {},
            "cell_type": "markdown",
            "source": "# My Jupyter Notebook on IBM Watson Studio"
        },
        {
            "metadata": {},
            "cell_type": "markdown",
            "source": "<b>Nistha Nagar</b> <br>Student"
        },
        {
            "metadata": {},
            "cell_type": "markdown",
            "source": "<i>I am interested in data science because I like to observe and analyze data.</i>"
        },
        {
            "metadata": {},
            "cell_type": "markdown",
            "source": "<h3>Code to print the factorial of a number</h3>"
        },
        {
            "metadata": {},
            "cell_type": "code",
            "source": "def factorial(n):\n    if n == 0:\n        return 1\n    else:\n        return n*factorial(n-1)\nfactorial(5)",
            "execution_count": 1,
            "outputs": [
                {
                    "output_type": "execute_result",
                    "execution_count": 1,
                    "data": {
                        "text/plain": "120"
                    },
                    "metadata": {}
                }
            ]
        },
        {
            "metadata": {},
            "cell_type": "markdown",
            "source": "<hr>\n\n1. Cinnamon\n2. Cardamom\n3. Cloves\n\n\n- Fennel\n- Coriander\n- Sesame\n\n<a href=\"https://www.google.com\" >Link to Google</a>\n\n<table style=\"width:20%\">\n<tr>\n<th>Name</th>\n<th>City</th>\n</tr>\n\n<tr>\n<td>Monica</td>\n<td>New York</td>\n</tr>\n\n<tr>\n<td>Sheldon</td>\n<td>Houston</td>\n</tr>\n</table>\n\n```Python\nstr = \"This is highlighting\"\nprint(str)\n```\n\n> This is blocked quotes."
        }
    ],
    "metadata": {
        "kernelspec": {
            "name": "python3",
            "display_name": "Python 3.6",
            "language": "python"
        },
        "language_info": {
            "name": "python",
            "version": "3.6.9",
            "mimetype": "text/x-python",
            "codemirror_mode": {
                "name": "ipython",
                "version": 3
            },
            "pygments_lexer": "ipython3",
            "nbconvert_exporter": "python",
            "file_extension": ".py"
        }
    },
    "nbformat": 4,
    "nbformat_minor": 1
}