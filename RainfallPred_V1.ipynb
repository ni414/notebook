{
  "nbformat": 4,
  "nbformat_minor": 0,
  "metadata": {
    "colab": {
      "name": "Untitled0.ipynb",
      "provenance": [],
      "mount_file_id": "1liPuqRti4jesm79v5AL-wITA4dJdtZDq",
      "authorship_tag": "ABX9TyOhXMFINTX3xBqMER42VcD9",
      "include_colab_link": true
    },
    "kernelspec": {
      "name": "python3",
      "display_name": "Python 3"
    }
  },
  "cells": [
    {
      "cell_type": "markdown",
      "metadata": {
        "id": "view-in-github",
        "colab_type": "text"
      },
      "source": [
        "<a href=\"https://colab.research.google.com/github/ni414/notebook/blob/master/RainfallPred_V1.ipynb\" target=\"_parent\"><img src=\"https://colab.research.google.com/assets/colab-badge.svg\" alt=\"Open In Colab\"/></a>"
      ]
    },
    {
      "cell_type": "code",
      "metadata": {
        "id": "brNE0NX2w_cD"
      },
      "source": [
        "import numpy as np\n",
        "from sklearn import preprocessing\n",
        "from sklearn.linear_model import LinearRegression\n",
        "from sklearn.linear_model import Ridge\n",
        "from sklearn.model_selection import train_test_split\n",
        "\n",
        "#parameters1=[{'alpha':[0.001,0.1,1,10,100,1000,10000,100000]}]\n",
        "#parameters2=[{'alpha':[0.001,0.1,1,10,100],'normalize':[True,False]}]\n",
        "\n",
        "datasetpath='/content/drive/My Drive/rainfall_data.npy'\n",
        "dataset=np.load(datasetpath)\n",
        "#print(dataset.shape)\n",
        "#print(np.isnan(dataset))\n",
        "#print(dataset<0)\n",
        "datasetcopy=dataset.copy()\n",
        "datasetcopy=np.where(datasetcopy<0,0,datasetcopy)\n",
        "#print(datasetcopy<0)\n",
        "normalized_data=np.zeros_like(datasetcopy)\n",
        "#normalized_data[0,0] = preprocessing.normalize(datasetcopy[0,0])\n",
        "#print(normalized_data[0][0])\n",
        "\n",
        "years=np.arange(1901,2016)\n",
        "training_years=np.arange(1901,2001)\n",
        "testing_years=np.arange(2001,2016)\n",
        "months=['01', '02', '03', '04', '05', '06', '07', '08', '09', '10', '11', '12']\n",
        "\n",
        "for ye in range(len(years)):\n",
        "  for m in range(len(months)):\n",
        "    normalized_data[ye, m, :, :] = preprocessing.normalize(datasetcopy[ye, m, :, :])\n",
        "#print(normalized_data)"
      ],
      "execution_count": null,
      "outputs": []
    },
    {
      "cell_type": "code",
      "metadata": {
        "id": "2znFUIs9bbYN"
      },
      "source": [
        "training_data=np.zeros((100,12,129,135))\n",
        "testing_data=np.zeros((15,12,129,135))\n",
        "\n",
        "training_data=normalized_data[0:99]\n",
        "print(len(training_data))\n",
        "print(training_data)\n",
        "testing_data=normalized_data[100:115]\n",
        "print(len(testing_data))\n",
        "\n",
        "reg = linear_model.LinearRegression()\n",
        "#x_train, x_test, y_train, y_test = train_test_split(x_data, y_data, test_size=0.13, random_state=0)\n"
      ],
      "execution_count": null,
      "outputs": []
    }
  ]
}