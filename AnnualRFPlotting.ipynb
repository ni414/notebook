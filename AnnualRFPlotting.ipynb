{
  "nbformat": 4,
  "nbformat_minor": 0,
  "metadata": {
    "colab": {
      "name": "Untitled2.ipynb",
      "provenance": [],
      "mount_file_id": "1HA2uMG7W0Ogcxad3FXy_d4QrJclWpT8w",
      "authorship_tag": "ABX9TyPxGNJ+XSMJDIO+sYydTP1M",
      "include_colab_link": true
    },
    "kernelspec": {
      "display_name": "Python 3",
      "name": "python3"
    }
  },
  "cells": [
    {
      "cell_type": "markdown",
      "metadata": {
        "id": "view-in-github",
        "colab_type": "text"
      },
      "source": [
        "<a href=\"https://colab.research.google.com/github/ni414/notebook/blob/master/AnnualRFPlotting.ipynb\" target=\"_parent\"><img src=\"https://colab.research.google.com/assets/colab-badge.svg\" alt=\"Open In Colab\"/></a>"
      ]
    },
    {
      "cell_type": "code",
      "metadata": {
        "id": "XgjNgYqDEEdM"
      },
      "source": [
        "import numpy as np\n",
        "import pandas as pd\n",
        "#import cv2\n",
        "from PIL import Image as im\n",
        "from sklearn import preprocessing"
      ],
      "execution_count": 29,
      "outputs": []
    },
    {
      "cell_type": "code",
      "metadata": {
        "id": "SOXCCrFZO0hj"
      },
      "source": [
        "import numpy as np\n",
        "import pandas as pd\n",
        "\n",
        "import seaborn as sns\n",
        "import matplotlib.pyplot as plt\n",
        "\n",
        "xaxis = np.loadtxt('xaxis.txt')\n",
        "yaxis = np.loadtxt('yaxis.txt')\n",
        "rf1901=np.array(pd.read_excel('AverageRF1927.xlsx'))\n",
        "#rf1901=preprocessing.normalize(rf1901)\n",
        "plt.figure(figsize=(15,15))\n",
        "sns.heatmap(rf1901, vmin=0, vmax=np.max(rf1901), cmap='autumn')\n",
        "plt.gca().invert_yaxis()\n",
        "plt.title('Average Rainfall')\n",
        "plt.xlabel('Latitude')\n",
        "plt.ylabel('Longitude')\n",
        "plt.xticks(range(len(xaxis)), xaxis)\n",
        "plt.yticks(range(len(yaxis)), yaxis)\n",
        "plt.show()\n",
        "#plt.savefig('Year_1927.png')\n",
        "#plt.clf()\n"
      ],
      "execution_count": null,
      "outputs": []
    },
    {
      "cell_type": "code",
      "metadata": {
        "id": "s_FX0TJkNcvh"
      },
      "source": [
        "plt.figure(figsize=(15,15))\n",
        "plt.imshow(rf1901,interpolation='nearest',cmap='coolwarm',)\n",
        "plt.colorbar()\n",
        "plt.gca().invert_yaxis()\n",
        "plt.title('Average Rainfall')\n",
        "plt.xlabel('Latitude')\n",
        "plt.ylabel('Longitude')\n",
        "plt.xticks(range(len(xaxis)), xaxis)\n",
        "plt.yticks(range(len(yaxis)), yaxis)\n",
        "plt.show()"
      ],
      "execution_count": null,
      "outputs": []
    },
    {
      "cell_type": "code",
      "metadata": {
        "id": "ITMUF_ihIr9J"
      },
      "source": [
        "xlpath='/content/drive/My Drive/RainfallDataAnalysis-main/AnnualAverageIMDRainfall/'\n",
        "for year in range(1901,2017):\n",
        "  filename=xlpath+'AverageRF'+str(year)+'.xlsx'\n",
        "  rf_xl=np.array(pd.read_excel(filename))\n",
        "  rf_xl=preprocessing.normalize(rf_xl)\n",
        "  plt.figure(figsize=(25,25))\n",
        "  plt.imshow(rf_xl,interpolation='nearest',cmap='coolwarm')\n",
        "  plt.colorbar()\n",
        "  plt.gca().invert_yaxis()\n",
        "  plt.title('Average Rainfall %s' %str(year))\n",
        "  plt.xlabel('Latitude')\n",
        "  plt.ylabel('Longitude')\n",
        "  plt.xticks(range(len(xaxis)), xaxis)\n",
        "  plt.yticks(range(len(yaxis)), yaxis)\n",
        "  plt.savefig('Year_%s.png' % str(year))\n",
        "  plt.clf()\n",
        "\n"
      ],
      "execution_count": null,
      "outputs": []
    }
  ]
}